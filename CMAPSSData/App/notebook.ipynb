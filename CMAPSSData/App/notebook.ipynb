{
 "cells": [
  {
   "cell_type": "code",
   "execution_count": 2,
   "id": "1d2b0715",
   "metadata": {},
   "outputs": [
    {
     "ename": "TypeError",
     "evalue": "Hasher.__init__() takes 1 positional argument but 2 were given",
     "output_type": "error",
     "traceback": [
      "\u001b[1;31m---------------------------------------------------------------------------\u001b[0m",
      "\u001b[1;31mTypeError\u001b[0m                                 Traceback (most recent call last)",
      "Cell \u001b[1;32mIn[2], line 7\u001b[0m\n\u001b[0;32m      4\u001b[0m passwords \u001b[38;5;241m=\u001b[39m [\u001b[38;5;124m'\u001b[39m\u001b[38;5;124mengineerpass\u001b[39m\u001b[38;5;124m'\u001b[39m, \u001b[38;5;124m'\u001b[39m\u001b[38;5;124manalystpass\u001b[39m\u001b[38;5;124m'\u001b[39m]\n\u001b[0;32m      6\u001b[0m \u001b[38;5;66;03m# Hash them (this works in 0.4.2)\u001b[39;00m\n\u001b[1;32m----> 7\u001b[0m hashed_passwords \u001b[38;5;241m=\u001b[39m \u001b[43mstauth\u001b[49m\u001b[38;5;241;43m.\u001b[39;49m\u001b[43mHasher\u001b[49m\u001b[43m(\u001b[49m\u001b[43m[\u001b[49m\u001b[38;5;124;43m'\u001b[39;49m\u001b[38;5;124;43mengineerpass\u001b[39;49m\u001b[38;5;124;43m'\u001b[39;49m\u001b[43m,\u001b[49m\u001b[43m \u001b[49m\u001b[38;5;124;43m'\u001b[39;49m\u001b[38;5;124;43manalystpass\u001b[39;49m\u001b[38;5;124;43m'\u001b[39;49m\u001b[43m]\u001b[49m\u001b[43m)\u001b[49m\u001b[38;5;241m.\u001b[39mgenerate()\n\u001b[0;32m      9\u001b[0m \u001b[38;5;66;03m# Print the hashed passwords\u001b[39;00m\n\u001b[0;32m     10\u001b[0m \u001b[38;5;28mprint\u001b[39m(hashed_passwords)\n",
      "\u001b[1;31mTypeError\u001b[0m: Hasher.__init__() takes 1 positional argument but 2 were given"
     ]
    }
   ],
   "source": [
    "import streamlit_authenticator as stauth\n",
    "\n",
    "# Your plain text passwords\n",
    "passwords = ['engineerpass', 'analystpass']\n",
    "\n",
    "# Hash them (this works in 0.4.2)\n",
    "hashed_passwords = stauth.Hasher(['engineerpass', 'analystpass']).generate()\n",
    "\n",
    "# Print the hashed passwords\n",
    "print(hashed_passwords)"
   ]
  }
 ],
 "metadata": {
  "kernelspec": {
   "display_name": "aircraft_dashboard",
   "language": "python",
   "name": "python3"
  },
  "language_info": {
   "codemirror_mode": {
    "name": "ipython",
    "version": 3
   },
   "file_extension": ".py",
   "mimetype": "text/x-python",
   "name": "python",
   "nbconvert_exporter": "python",
   "pygments_lexer": "ipython3",
   "version": "3.10.18"
  }
 },
 "nbformat": 4,
 "nbformat_minor": 5
}
